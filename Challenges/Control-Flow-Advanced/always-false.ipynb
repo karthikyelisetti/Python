{
 "cells": [
  {
   "cell_type": "markdown",
   "metadata": {},
   "source": [
    "3. Always False\n",
    "\n",
    "    There are some situations that you normally want to avoid when programming using conditional statements. One example is a contradiction. This occurs when your condition will always be false no matter what value you pass into it. Let’s create an example of a function that contains a contradiction. It will contain a few steps:\n",
    "\n",
    "    1. Define the function to accept a single parameter called <b style=\"color: green;\">num</b>\n",
    "    2. Use a combination of <b style=\"color: green;\"><, ></b> and <b style=\"color: green;\">and</b> to create a contradiction in an <b style=\"color: green;\">if</b> statement.\n",
    "    3. If the condition is true, return <b style=\"color: green;\">True</b>, otherwise return <b style=\"color: green;\">False</b>. The trick here is that because we’ve written a contradiction, the condition should never be true, so we should expect to always return <b style=\"color: green;\">False</b>."
   ]
  },
  {
   "cell_type": "code",
   "execution_count": 1,
   "metadata": {},
   "outputs": [
    {
     "name": "stdout",
     "output_type": "stream",
     "text": [
      "False\n",
      "False\n",
      "False\n"
     ]
    }
   ],
   "source": [
    "def always_false (num):\n",
    "    if num > num and num < num:\n",
    "        return True\n",
    "    else:\n",
    "        return False\n",
    "\n",
    "print(always_false(0))\n",
    "# should print False\n",
    "print(always_false(-1))\n",
    "# should print False\n",
    "print(always_false(1))\n",
    "# should print False"
   ]
  }
 ],
 "metadata": {
  "kernelspec": {
   "display_name": "Python 3.10.8 64-bit",
   "language": "python",
   "name": "python3"
  },
  "language_info": {
   "codemirror_mode": {
    "name": "ipython",
    "version": 3
   },
   "file_extension": ".py",
   "mimetype": "text/x-python",
   "name": "python",
   "nbconvert_exporter": "python",
   "pygments_lexer": "ipython3",
   "version": "3.10.8"
  },
  "orig_nbformat": 4,
  "vscode": {
   "interpreter": {
    "hash": "369f2c481f4da34e4445cda3fffd2e751bd1c4d706f27375911949ba6bb62e1c"
   }
  }
 },
 "nbformat": 4,
 "nbformat_minor": 2
}
