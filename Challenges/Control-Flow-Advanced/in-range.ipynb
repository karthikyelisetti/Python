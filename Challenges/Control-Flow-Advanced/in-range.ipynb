{
 "cells": [
  {
   "cell_type": "markdown",
   "metadata": {},
   "source": [
    "1. In Range\n",
    "\n",
    "    Let's start the advanced challenge problems by testing if a number falls within a certain range. We will accept three parameters where the first parameter is the number we are testing, the second parameter is the lower bound and the third parameter is the upper bound of our range. These are the steps required:\n",
    "\n",
    "    1. Define the function to accept three numbers as parameters\n",
    "    2. Test if the number is greater than or equal to the lower bound and less than or equal to the upper bound\n",
    "    3. If this is true, return <b style=\"color:green\">True</b>, otherwise, return <b style=\"color:green\">False</b>"
   ]
  },
  {
   "cell_type": "code",
   "execution_count": 1,
   "metadata": {},
   "outputs": [
    {
     "name": "stdout",
     "output_type": "stream",
     "text": [
      "True\n",
      "False\n"
     ]
    }
   ],
   "source": [
    "def in_range(num1, num2, num3):\n",
    "    if num1 >= num2 and num1 <= num3:\n",
    "        return True\n",
    "    else:\n",
    "        return False\n",
    "\n",
    "print(in_range(10, 10, 10))\n",
    "# should print True\n",
    "print(in_range(5, 10, 20))\n",
    "# should print False"
   ]
  }
 ],
 "metadata": {
  "kernelspec": {
   "display_name": "Python 3.10.8 64-bit",
   "language": "python",
   "name": "python3"
  },
  "language_info": {
   "codemirror_mode": {
    "name": "ipython",
    "version": 3
   },
   "file_extension": ".py",
   "mimetype": "text/x-python",
   "name": "python",
   "nbconvert_exporter": "python",
   "pygments_lexer": "ipython3",
   "version": "3.10.8"
  },
  "orig_nbformat": 4,
  "vscode": {
   "interpreter": {
    "hash": "369f2c481f4da34e4445cda3fffd2e751bd1c4d706f27375911949ba6bb62e1c"
   }
  }
 },
 "nbformat": 4,
 "nbformat_minor": 2
}
