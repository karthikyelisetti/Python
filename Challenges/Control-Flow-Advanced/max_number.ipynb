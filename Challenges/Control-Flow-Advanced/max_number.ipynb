{
 "cells": [
  {
   "cell_type": "markdown",
   "metadata": {},
   "source": [
    "5. Max Number\n",
    "    \n",
    "    For the final challenge, we are going to select which number from three input values is the greatest using conditional statements. To do this, we need to check the different combinations of values to see which number is greater than the other two. Here is what we need to do:\n",
    "\n",
    "    1. Define a function that has three input parameters, <b style=\"color: green;\">num1, num2</b>, and <b style=\"color: green;\">num3</b>\n",
    "    2. Test if <b style=\"color: green;\">num1</b> is greater than the other two numbers\n",
    "    3. If so, return <b style=\"color: green;\">num1</b>\n",
    "    4. Test if <b style=\"color: green;\">num2</b> is greater than the other two numbers\n",
    "    5. If so, return <b style=\"color: green;\">num2</b>\n",
    "    6. Test if <b style=\"color: green;\">num3</b> is greater than the other two numbers\n",
    "    7. If so, return <b style=\"color: green;\">num3</b>\n",
    "    8. If there was a tie between the two largest numbers, then return <b style=\"color: green;\">\"It's a tie!\"</b>"
   ]
  },
  {
   "cell_type": "code",
   "execution_count": 2,
   "metadata": {},
   "outputs": [
    {
     "name": "stdout",
     "output_type": "stream",
     "text": [
      "10\n",
      "5\n",
      "-5\n",
      "It's a tie\n"
     ]
    }
   ],
   "source": [
    "def max_num(num1, num2, num3):\n",
    "    if num1 > num2 and num1 > num3:\n",
    "        return num1\n",
    "    elif num2 > num3 and num2 > num1:\n",
    "        return num2\n",
    "    elif num3 > num1 and num3 > num2:\n",
    "        return num3\n",
    "    else:\n",
    "        if num1 == num2 and num1 > num3:\n",
    "            return \"It's a tie\"\n",
    "        elif num2 == num3 and num2 > num1:\n",
    "            return \"It's a tie\"\n",
    "        elif num3 == num1 and num3 > num2:\n",
    "            return \"It's a tie\"\n",
    "\n",
    "print(max_num(-10, 0, 10))\n",
    "# should print 10\n",
    "print(max_num(-10, 5, -30))\n",
    "# should print 5\n",
    "print(max_num(-5, -10, -10))\n",
    "# should print -5\n",
    "print(max_num(2, 3, 3))\n",
    "# should print \"It's a tie!\""
   ]
  }
 ],
 "metadata": {
  "kernelspec": {
   "display_name": "Python 3.10.8 64-bit",
   "language": "python",
   "name": "python3"
  },
  "language_info": {
   "codemirror_mode": {
    "name": "ipython",
    "version": 3
   },
   "file_extension": ".py",
   "mimetype": "text/x-python",
   "name": "python",
   "nbconvert_exporter": "python",
   "pygments_lexer": "ipython3",
   "version": "3.10.8"
  },
  "orig_nbformat": 4,
  "vscode": {
   "interpreter": {
    "hash": "369f2c481f4da34e4445cda3fffd2e751bd1c4d706f27375911949ba6bb62e1c"
   }
  }
 },
 "nbformat": 4,
 "nbformat_minor": 2
}
