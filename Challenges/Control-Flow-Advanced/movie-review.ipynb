{
 "cells": [
  {
   "cell_type": "markdown",
   "metadata": {},
   "source": [
    "4. Movie Review\n",
    "    \n",
    "    We want to create a function that will help us rate movies. Our function will split the ratings into different ranges and tell the user how the movie was based on the movie’s rating. Here are the steps needed:\n",
    "\n",
    "    1. Define our function to accept a single number called <b style=\"color: green;\">rating</b>\n",
    "    2. If the rating is equal to or less than 5, return <b style=\"color: green;\">\"Avoid at all costs!\"</b>\n",
    "    3. If the rating was less than 9, return <b style=\"color: green;\">\"This one was fun.\"</b>\n",
    "    4. If neither of the if statement conditions were met, return <b style=\"color: green;\">\"Outstanding!\"</b>"
   ]
  },
  {
   "cell_type": "code",
   "execution_count": 2,
   "metadata": {},
   "outputs": [
    {
     "name": "stdout",
     "output_type": "stream",
     "text": [
      "Outstanding!\n",
      "Avoid at all costs!\n",
      "This one was fun.\n"
     ]
    }
   ],
   "source": [
    "def movie_review(rating):\n",
    "    if rating <= 5:\n",
    "        return \"Avoid at all costs!\"\n",
    "    elif rating > 5 and rating < 9:\n",
    "        return \"This one was fun.\"\n",
    "    else:\n",
    "        return \"Outstanding!\"\n",
    "\n",
    "print(movie_review(9))\n",
    "# should print \"Outstanding!\"\n",
    "print(movie_review(4))\n",
    "# should print \"Avoid at all costs!\"\n",
    "print(movie_review(6))\n",
    "# should print \"This one was fun.\""
   ]
  }
 ],
 "metadata": {
  "kernelspec": {
   "display_name": "Python 3.10.8 64-bit",
   "language": "python",
   "name": "python3"
  },
  "language_info": {
   "codemirror_mode": {
    "name": "ipython",
    "version": 3
   },
   "file_extension": ".py",
   "mimetype": "text/x-python",
   "name": "python",
   "nbconvert_exporter": "python",
   "pygments_lexer": "ipython3",
   "version": "3.10.8"
  },
  "orig_nbformat": 4,
  "vscode": {
   "interpreter": {
    "hash": "369f2c481f4da34e4445cda3fffd2e751bd1c4d706f27375911949ba6bb62e1c"
   }
  }
 },
 "nbformat": 4,
 "nbformat_minor": 2
}
