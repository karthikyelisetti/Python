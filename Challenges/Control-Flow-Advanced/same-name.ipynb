{
 "cells": [
  {
   "cell_type": "markdown",
   "metadata": {},
   "source": [
    "2. Same Name\n",
    "\n",
    "    We need to write a program that checks different names and determines if they are equal. We need to accept two strings and compare them. Here are the steps:\n",
    "\n",
    "    1. Define the function to accept two strings, <b style=\"color: green;\">your_name</b> and <b style=\"color: green;\">my_name</b>\n",
    "    2. Test if the two strings are equal\n",
    "    3. Return <b style=\"color: green;\">True</b> if they are equal, otherwise return <b style=\"color: green;\">False</b>"
   ]
  },
  {
   "cell_type": "code",
   "execution_count": 1,
   "metadata": {},
   "outputs": [
    {
     "name": "stdout",
     "output_type": "stream",
     "text": [
      "True\n",
      "False\n"
     ]
    }
   ],
   "source": [
    "def same_name(your_name, my_name):\n",
    "    if your_name == my_name:\n",
    "        return True\n",
    "    else:\n",
    "        return False\n",
    "\n",
    "print(same_name(\"Colby\", \"Colby\"))\n",
    "# should print True\n",
    "print(same_name(\"Tina\", \"Amber\"))\n",
    "# should print False"
   ]
  }
 ],
 "metadata": {
  "kernelspec": {
   "display_name": "Python 3.10.8 64-bit",
   "language": "python",
   "name": "python3"
  },
  "language_info": {
   "codemirror_mode": {
    "name": "ipython",
    "version": 3
   },
   "file_extension": ".py",
   "mimetype": "text/x-python",
   "name": "python",
   "nbconvert_exporter": "python",
   "pygments_lexer": "ipython3",
   "version": "3.10.8"
  },
  "orig_nbformat": 4,
  "vscode": {
   "interpreter": {
    "hash": "369f2c481f4da34e4445cda3fffd2e751bd1c4d706f27375911949ba6bb62e1c"
   }
  }
 },
 "nbformat": 4,
 "nbformat_minor": 2
}
