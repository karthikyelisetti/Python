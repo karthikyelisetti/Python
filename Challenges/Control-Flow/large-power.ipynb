{
 "cells": [
  {
   "cell_type": "markdown",
   "metadata": {},
   "source": [
    "1. Large Power\n",
    "    \n",
    "    For the first code challenge, we are going to create a method that tests whether the result of taking the power of one number to another number provides an answer which is greater than 5000. We will use a conditional statement to return <b style=\"color:green;\">True</b> if the result is greater than 5000 or return <b style=\"color:green;\">False</b> if it is not. In order to accomplish this, we will need the following steps:\n",
    "\n",
    "    1. Define the function to accept two input parameters called <b style=\"color:green;\">base</b> and <b style=\"color:green;\">exponent</b>\n",
    "    2. Calculate the result of <b style=\"color:green;\">base</b> to the power of <b style=\"color:green;\">exponent</b>\n",
    "    3. Use an if statement to test if the result is greater than 5000. If it is then return True. Otherwise, return False"
   ]
  },
  {
   "cell_type": "code",
   "execution_count": 2,
   "metadata": {},
   "outputs": [
    {
     "data": {
      "text/plain": [
       "False"
      ]
     },
     "execution_count": 2,
     "metadata": {},
     "output_type": "execute_result"
    }
   ],
   "source": [
    "def large_power(base, exponent):\n",
    "    cal = base ** exponent\n",
    "    if (cal > 5000):\n",
    "        return True\n",
    "    else:\n",
    "        return False\n",
    "\n",
    "large_power(2, 13)\n",
    "large_power(2, 12)"
   ]
  }
 ],
 "metadata": {
  "kernelspec": {
   "display_name": "Python 3.10.8 64-bit",
   "language": "python",
   "name": "python3"
  },
  "language_info": {
   "codemirror_mode": {
    "name": "ipython",
    "version": 3
   },
   "file_extension": ".py",
   "mimetype": "text/x-python",
   "name": "python",
   "nbconvert_exporter": "python",
   "pygments_lexer": "ipython3",
   "version": "3.10.8"
  },
  "orig_nbformat": 4,
  "vscode": {
   "interpreter": {
    "hash": "369f2c481f4da34e4445cda3fffd2e751bd1c4d706f27375911949ba6bb62e1c"
   }
  }
 },
 "nbformat": 4,
 "nbformat_minor": 2
}
