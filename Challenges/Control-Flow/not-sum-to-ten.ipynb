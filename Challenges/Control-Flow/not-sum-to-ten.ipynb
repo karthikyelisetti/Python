{
 "cells": [
  {
   "cell_type": "markdown",
   "metadata": {},
   "source": [
    "4. Not Sum To Ten\n",
    "\n",
    "    Finally, we are going to check if the summation of two inputs does not equal ten. Our function will accept two inputs and add them together. If the two numbers added together are not equal to ten, then we will return <b style=\"color:green;\">True</b>, otherwise, we will return <b style=\"color:green;\">False</b>. Here is what we need to do:\n",
    "\n",
    "    1. Define the function to accept two parameters, <b style=\"color:green;\">num1</b> and <b style=\"color:green;\">num2</b>\n",
    "    2. Add the two parameters together\n",
    "    3. Test if the result is not equal to 10\n",
    "    4. If the sum is not equal, return <b style=\"color:green;\">True</b>, otherwise, return <b style=\"color:green;\">False</b>"
   ]
  },
  {
   "cell_type": "code",
   "execution_count": 4,
   "metadata": {},
   "outputs": [
    {
     "name": "stdout",
     "output_type": "stream",
     "text": [
      "True\n",
      "False\n",
      "False\n"
     ]
    }
   ],
   "source": [
    "def not_sum_to_ten(num1, num2):\n",
    "    cal = num1 + num2\n",
    "    if cal != 10:\n",
    "        return True\n",
    "    else:\n",
    "        return False\n",
    "\n",
    "print(not_sum_to_ten(9, -1))\n",
    "# should print True\n",
    "print(not_sum_to_ten(9, 1))\n",
    "# should print False\n",
    "print(not_sum_to_ten(5,5))\n",
    "# should print False"
   ]
  }
 ],
 "metadata": {
  "kernelspec": {
   "display_name": "Python 3.10.8 64-bit",
   "language": "python",
   "name": "python3"
  },
  "language_info": {
   "codemirror_mode": {
    "name": "ipython",
    "version": 3
   },
   "file_extension": ".py",
   "mimetype": "text/x-python",
   "name": "python",
   "nbconvert_exporter": "python",
   "pygments_lexer": "ipython3",
   "version": "3.10.8"
  },
  "orig_nbformat": 4,
  "vscode": {
   "interpreter": {
    "hash": "369f2c481f4da34e4445cda3fffd2e751bd1c4d706f27375911949ba6bb62e1c"
   }
  }
 },
 "nbformat": 4,
 "nbformat_minor": 2
}
