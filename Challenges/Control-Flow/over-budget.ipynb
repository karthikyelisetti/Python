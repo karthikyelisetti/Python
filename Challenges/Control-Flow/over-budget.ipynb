{
 "cells": [
  {
   "cell_type": "markdown",
   "metadata": {},
   "source": [
    "\n",
    "2. Over Budget\n",
    "\n",
    "    Let’s say we are trying to save some money and we are watching our budget. We need to make sure that the result of our spending is less than the total amount we have allocated for each of the categories. Our function will accept a parameter called <b style=\"color:green;\">budget</b> which describes our spending limit. The next four parameters describe what we are spending our money on. We need to sum all of our spendings and compare it to the budget. If we have gone over budget, we will return <b style=\"color:green;\">True</b>. Otherwise we return <b style=\"color:green;\">False</b>. Here are the steps we need:\n",
    "\n",
    "    1. Define the function to accept five parameters starting with <b style=\"color:green;\">budget</b> then <b style=\"color:green;\">food_bill, electricity_bill, internet_bill,</b> and <b style=\"color:green;\">rent</b>\n",
    "    2. Calculate the sum of the last four parameters\n",
    "    3. Use <b style=\"color:green;\">if</b> and <b style=\"color:green;\">else</b> statements to test if the budget is less than the sum of the calculated sum from the previous step.\n",
    "    4. If the condition is true, return <b style=\"color:green;\">True</b> otherwise return <b style=\"color:green;\">False</b>"
   ]
  },
  {
   "cell_type": "code",
   "execution_count": 3,
   "metadata": {},
   "outputs": [
    {
     "name": "stdout",
     "output_type": "stream",
     "text": [
      "False\n",
      "True\n"
     ]
    }
   ],
   "source": [
    "def over_budget(budget, food_bill, electricity_bill, internet_bill, rent):\n",
    "    total_spends = food_bill + electricity_bill + internet_bill + rent\n",
    "    if budget < total_spends:\n",
    "        return True\n",
    "    else:\n",
    "        return False\n",
    "\n",
    "print(over_budget(100, 20, 30, 10, 40))\n",
    "# should print False\n",
    "print(over_budget(80, 20, 30, 10, 30))\n",
    "# should print True"
   ]
  },
  {
   "cell_type": "markdown",
   "metadata": {},
   "source": []
  }
 ],
 "metadata": {
  "kernelspec": {
   "display_name": "Python 3.10.8 64-bit",
   "language": "python",
   "name": "python3"
  },
  "language_info": {
   "codemirror_mode": {
    "name": "ipython",
    "version": 3
   },
   "file_extension": ".py",
   "mimetype": "text/x-python",
   "name": "python",
   "nbconvert_exporter": "python",
   "pygments_lexer": "ipython3",
   "version": "3.10.8"
  },
  "orig_nbformat": 4,
  "vscode": {
   "interpreter": {
    "hash": "369f2c481f4da34e4445cda3fffd2e751bd1c4d706f27375911949ba6bb62e1c"
   }
  }
 },
 "nbformat": 4,
 "nbformat_minor": 2
}
