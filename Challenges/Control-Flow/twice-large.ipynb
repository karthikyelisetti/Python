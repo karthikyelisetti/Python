{
 "cells": [
  {
   "cell_type": "markdown",
   "metadata": {},
   "source": [
    "\n",
    "3. Twice As Large\n",
    "\n",
    "    In this challenge, we will determine if one number is twice as large as another number. To do this, we will compare the first number with two times the second number. Here are the steps:\n",
    "\n",
    "    1. Define our function with two inputs <b style=\"color:green;\">num1</b> and <b style=\"color:green;\">num2</b>\n",
    "    2. Multiply the second input by 2\n",
    "    3. Use an <b style=\"color:green;\">if</b> statement to compare the result of the last calculation with the first input\n",
    "    4. If num1 is greater then return <b style=\"color:green;\">True</b> otherwise return <b style=\"color:green;\">False</b>"
   ]
  },
  {
   "cell_type": "code",
   "execution_count": 3,
   "metadata": {},
   "outputs": [
    {
     "name": "stdout",
     "output_type": "stream",
     "text": [
      "False\n",
      "True\n"
     ]
    }
   ],
   "source": [
    "def twice_as_large(num1, num2):\n",
    "    if num1 > 2 * num2:\n",
    "        return True\n",
    "    else:\n",
    "        return False\n",
    "\n",
    "print(twice_as_large(10, 5))\n",
    "# should print False\n",
    "print(twice_as_large(11, 5))\n",
    "# should print True"
   ]
  }
 ],
 "metadata": {
  "kernelspec": {
   "display_name": "Python 3.10.8 64-bit",
   "language": "python",
   "name": "python3"
  },
  "language_info": {
   "codemirror_mode": {
    "name": "ipython",
    "version": 3
   },
   "file_extension": ".py",
   "mimetype": "text/x-python",
   "name": "python",
   "nbconvert_exporter": "python",
   "pygments_lexer": "ipython3",
   "version": "3.10.8"
  },
  "orig_nbformat": 4,
  "vscode": {
   "interpreter": {
    "hash": "369f2c481f4da34e4445cda3fffd2e751bd1c4d706f27375911949ba6bb62e1c"
   }
  }
 },
 "nbformat": 4,
 "nbformat_minor": 2
}
