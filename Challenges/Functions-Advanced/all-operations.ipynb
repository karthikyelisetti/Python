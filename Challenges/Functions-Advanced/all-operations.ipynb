{
 "cells": [
  {
   "cell_type": "markdown",
   "metadata": {},
   "source": [
    "5. All Operations\n",
    "    \n",
    "    For the final code challenge, we are going to perform multiple mathematical operations on multiple inputs to the function. We will begin with adding the first two inputs, then we will subtract the third and fourth inputs. After that, we will multiply the first result and the second result. In the end, we will return the remainder of the previous result divided by the first input. We will also print each of the steps. The steps needed to complete this are:\n",
    "\n",
    "    1. Define the function to accept four inputs: <b style=\"color: green;\">a, b, c</b>, and <b style=\"color: green;\">d</b>\n",
    "    2. Print and store the result of <b style=\"color: green;\">a</b> + <b style=\"color: green;\">b</b>\n",
    "    3. Print and store the result of <b style=\"color: green;\">c</b> - <b style=\"color: green;\">d</b>\n",
    "    4. Print and store the first result times the second result\n",
    "    5. Return the previous result modulo <b style=\"color: green;\">a</b>"
   ]
  },
  {
   "cell_type": "code",
   "execution_count": 1,
   "metadata": {},
   "outputs": [
    {
     "name": "stdout",
     "output_type": "stream",
     "text": [
      "3\n",
      "-1\n",
      "-3\n",
      "0\n",
      "2\n",
      "0\n",
      "0\n",
      "0\n"
     ]
    }
   ],
   "source": [
    "def lots_of_math(a, b, c, d):\n",
    "  num1 = a + b\n",
    "  num2 = c - d\n",
    "  num3 = num1 * num2\n",
    "  print(num1)\n",
    "  print(num2)\n",
    "  print(num3)\n",
    "  return num3 % a\n",
    "\n",
    "print(lots_of_math(1, 2, 3, 4))\n",
    "# should print 3, -1, -3, 0\n",
    "print(lots_of_math(1, 1, 1, 1))\n",
    "# should print 2, 0, 0, 0"
   ]
  }
 ],
 "metadata": {
  "kernelspec": {
   "display_name": "Python 3.10.8 64-bit",
   "language": "python",
   "name": "python3"
  },
  "language_info": {
   "codemirror_mode": {
    "name": "ipython",
    "version": 3
   },
   "file_extension": ".py",
   "mimetype": "text/x-python",
   "name": "python",
   "nbconvert_exporter": "python",
   "pygments_lexer": "ipython3",
   "version": "3.10.8"
  },
  "orig_nbformat": 4,
  "vscode": {
   "interpreter": {
    "hash": "369f2c481f4da34e4445cda3fffd2e751bd1c4d706f27375911949ba6bb62e1c"
   }
  }
 },
 "nbformat": 4,
 "nbformat_minor": 2
}
