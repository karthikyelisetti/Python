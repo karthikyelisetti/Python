{
 "cells": [
  {
   "cell_type": "markdown",
   "metadata": {},
   "source": [
    "3. Bond, James Bond\n",
    "    \n",
    "    It's time to re-create a famous movie scene through code. Our function is going to concatenate strings together in order to replace James Bond’s name with whatever name we want. The input to our function will be two strings, one for a first name and another for a last name. The function will return a string consisting of the famous phrase but replaced with our inputs. To accomplish this, we need to:\n",
    "\n",
    "    1. Define the function to accept two parameters, <b style=\"color: green;\">first_name</b> and <b style=\"color: green;\">last_name</b>\n",
    "    2. Concatenate the string <b style=\"color: green;\">', '</b> on to the <b style=\"color: green;\">last_name</b>\n",
    "    3. Concatenate the <b style=\"color: green;\">first_name</b> on to the result of the previous step\n",
    "    4. Concatenate a space on to the result\n",
    "    5. Concatenate the <b style=\"color: green;\">last_name</b> again to the result\n",
    "    6. Return the final string"
   ]
  },
  {
   "cell_type": "code",
   "execution_count": 1,
   "metadata": {},
   "outputs": [
    {
     "name": "stdout",
     "output_type": "stream",
     "text": [
      "Bond, James Bond\n",
      "Angelou, Maya Angelou\n"
     ]
    }
   ],
   "source": [
    "def introduction(first_name, last_name):\n",
    "  name = last_name+', '+first_name+' '+last_name\n",
    "  return name\n",
    "\n",
    "print(introduction(\"James\", \"Bond\"))\n",
    "# should print Bond, James Bond\n",
    "print(introduction(\"Maya\", \"Angelou\"))\n",
    "# should print Angelou, Maya Angelou"
   ]
  }
 ],
 "metadata": {
  "kernelspec": {
   "display_name": "Python 3.10.8 64-bit",
   "language": "python",
   "name": "python3"
  },
  "language_info": {
   "codemirror_mode": {
    "name": "ipython",
    "version": 3
   },
   "file_extension": ".py",
   "mimetype": "text/x-python",
   "name": "python",
   "nbconvert_exporter": "python",
   "pygments_lexer": "ipython3",
   "version": "3.10.8"
  },
  "orig_nbformat": 4,
  "vscode": {
   "interpreter": {
    "hash": "369f2c481f4da34e4445cda3fffd2e751bd1c4d706f27375911949ba6bb62e1c"
   }
  }
 },
 "nbformat": 4,
 "nbformat_minor": 2
}
