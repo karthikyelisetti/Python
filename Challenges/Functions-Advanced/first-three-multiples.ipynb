{
 "cells": [
  {
   "cell_type": "markdown",
   "metadata": {},
   "source": [
    "1. First Three Multiples\n",
    "    \n",
    "    Let's start by creating a function which both prints and returns values. For this function, we are going to print out the first three multiples of a number and return the third multiple. This means that we are going to print 1, 2, and 3 times the input number and then return the value of 3 times the input number. For this, we are going to need a few steps:\n",
    "\n",
    "    1. Define the function header to accept one input parameter called <b style=\"color: green;\">num</b>\n",
    "    2. Print out 1 times <b style=\"color: green;\">num</b>\n",
    "    3. Print out 2 times <b style=\"color: green;\">num</b>\n",
    "    4. Print out 3 times <b style=\"color: green;\">num</b>\n",
    "    5. Return the value of 3 times <b style=\"color: green;\">num</b>"
   ]
  },
  {
   "cell_type": "code",
   "execution_count": 1,
   "metadata": {},
   "outputs": [
    {
     "name": "stdout",
     "output_type": "stream",
     "text": [
      "10\n",
      "20\n",
      "30\n",
      "0\n",
      "0\n",
      "0\n"
     ]
    },
    {
     "data": {
      "text/plain": [
       "0"
      ]
     },
     "execution_count": 1,
     "metadata": {},
     "output_type": "execute_result"
    }
   ],
   "source": [
    "def first_three_multiples(num):\n",
    "  print(num * 1)\n",
    "  print(num * 2)\n",
    "  print(num * 3)\n",
    "  return num * 3\n",
    "\n",
    "\n",
    "first_three_multiples(10)\n",
    "# should print 10, 20, 30, and return 30\n",
    "first_three_multiples(0)\n",
    "# should print 0, 0, 0, and return 0"
   ]
  }
 ],
 "metadata": {
  "kernelspec": {
   "display_name": "Python 3.10.8 64-bit",
   "language": "python",
   "name": "python3"
  },
  "language_info": {
   "codemirror_mode": {
    "name": "ipython",
    "version": 3
   },
   "file_extension": ".py",
   "mimetype": "text/x-python",
   "name": "python",
   "nbconvert_exporter": "python",
   "pygments_lexer": "ipython3",
   "version": "3.10.8"
  },
  "orig_nbformat": 4,
  "vscode": {
   "interpreter": {
    "hash": "369f2c481f4da34e4445cda3fffd2e751bd1c4d706f27375911949ba6bb62e1c"
   }
  }
 },
 "nbformat": 4,
 "nbformat_minor": 2
}
