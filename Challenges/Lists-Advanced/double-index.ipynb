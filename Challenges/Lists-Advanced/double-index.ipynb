{
 "cells": [
  {
   "cell_type": "markdown",
   "metadata": {},
   "source": [
    "4. Double Index\n",
    "\n",
    "    Our next function will double a value at a given position. We will provide a list and an index to double. This will create a new list by replacing the value at the index provided with double the original value. If the index is invalid then we should return the original list. Here is what we need to do:\n",
    "\n",
    "    1. Define the function to accept two parameters, one for the list and another for the index of the value we are going to double\n",
    "    2. Test if the index is invalid. If it’s invalid then return the original list\n",
    "    3. If the index is valid then get all values up to the index and store it as a new list\n",
    "    4. Append the value at the index times 2 to the new list\n",
    "    5. Add the rest of the list from the index onto the new list\n",
    "    6. Return the new list"
   ]
  },
  {
   "cell_type": "code",
   "execution_count": 17,
   "metadata": {},
   "outputs": [
    {
     "name": "stdout",
     "output_type": "stream",
     "text": [
      "[3, 8, -20, 12]\n"
     ]
    }
   ],
   "source": [
    "def double_index(my_list, idx):\n",
    "    if (idx >= len(my_list)):\n",
    "        return my_list\n",
    "    else:\n",
    "        new_list = my_list[:idx]\n",
    "        new_list.append(my_list[idx] * 2)\n",
    "        new_list = new_list + my_list[idx+1:]\n",
    "        return new_list\n",
    "\n",
    "print(double_index([3, 8, -10, 12], 2))"
   ]
  }
 ],
 "metadata": {
  "kernelspec": {
   "display_name": "Python 3.10.8 64-bit",
   "language": "python",
   "name": "python3"
  },
  "language_info": {
   "codemirror_mode": {
    "name": "ipython",
    "version": 3
   },
   "file_extension": ".py",
   "mimetype": "text/x-python",
   "name": "python",
   "nbconvert_exporter": "python",
   "pygments_lexer": "ipython3",
   "version": "3.10.8"
  },
  "orig_nbformat": 4,
  "vscode": {
   "interpreter": {
    "hash": "369f2c481f4da34e4445cda3fffd2e751bd1c4d706f27375911949ba6bb62e1c"
   }
  }
 },
 "nbformat": 4,
 "nbformat_minor": 2
}
