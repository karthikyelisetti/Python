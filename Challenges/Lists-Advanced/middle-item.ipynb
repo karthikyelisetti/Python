{
 "cells": [
  {
   "cell_type": "markdown",
   "metadata": {},
   "source": [
    "5. Middle Item\n",
    "\n",
    "    For the final code challenge, we are going to create a function that finds the middle item from a list of values. This will be different depending on whether there are an odd or even number of values. In the case of an odd number of elements, we want this function to return the exact middle value. If there is an even number of elements, it returns the average of the middle two elements. Here is what we need to do:\n",
    "\n",
    "    1. Define the function to accept one parameter for our list of numbers\n",
    "    2. Determine if the length of the list is even or odd\n",
    "    3. If the length is even, then return the average of the middle two numbers\n",
    "    4. If the length is odd, then return the middle number"
   ]
  },
  {
   "cell_type": "code",
   "execution_count": 3,
   "metadata": {},
   "outputs": [
    {
     "name": "stdout",
     "output_type": "stream",
     "text": [
      "-7.0\n"
     ]
    }
   ],
   "source": [
    "def middle_element(my_list):\n",
    "    if len(my_list) % 2 == 0:\n",
    "        avg_idx = int(len(my_list)/2)\n",
    "        num1 = my_list[avg_idx]\n",
    "        num2 = my_list[avg_idx-1]\n",
    "        return (num1 + num2)/2\n",
    "    else:\n",
    "        return my_list[int(abs((len(my_list)-1)/2))]\n",
    "\n",
    "print(middle_element([5, 2, -10, -4, 4, 5]))"
   ]
  }
 ],
 "metadata": {
  "kernelspec": {
   "display_name": "Python 3.10.8 64-bit",
   "language": "python",
   "name": "python3"
  },
  "language_info": {
   "codemirror_mode": {
    "name": "ipython",
    "version": 3
   },
   "file_extension": ".py",
   "mimetype": "text/x-python",
   "name": "python",
   "nbconvert_exporter": "python",
   "pygments_lexer": "ipython3",
   "version": "3.10.8"
  },
  "orig_nbformat": 4,
  "vscode": {
   "interpreter": {
    "hash": "369f2c481f4da34e4445cda3fffd2e751bd1c4d706f27375911949ba6bb62e1c"
   }
  }
 },
 "nbformat": 4,
 "nbformat_minor": 2
}
