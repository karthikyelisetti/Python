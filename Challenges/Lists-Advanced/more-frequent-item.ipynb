{
 "cells": [
  {
   "cell_type": "markdown",
   "metadata": {},
   "source": [
    "3. More Frequent Item\n",
    "\n",
    "    Let’s go back to our factory example. We have a conveyor belt of items where each item is represented by a different number. We want to know, out of two items, which one shows up more on our belt. To solve this, we can use a function with three parameters. One parameter for the list of items, another for the first item we are comparing, and another for the second item. Here are the steps:\n",
    "\n",
    "    1. Define the function to accept three parameters: the list, the first item, and the second item\n",
    "    2. Count the number of times <b style=\"color: green;\">item1</b> shows up in our list\n",
    "    3. Count the number of times <b style=\"color: green;\">item2</b> shows up in our list\n",
    "    4. Return the item that appears more frequently in <b style=\"color: green;\">lst</b> - if both items show up the same number of times, return <b style=\"color: green;\">item1</b>"
   ]
  },
  {
   "cell_type": "code",
   "execution_count": 1,
   "metadata": {},
   "outputs": [
    {
     "name": "stdout",
     "output_type": "stream",
     "text": [
      "3\n"
     ]
    }
   ],
   "source": [
    "def more_frequent_item(my_list, item1, item2):\n",
    "    item1_cnt = my_list.count(item1)\n",
    "    item2_cnt = my_list.count(item2)\n",
    "    if item1_cnt > item2_cnt:\n",
    "        return item1\n",
    "    elif item2_cnt > item1_cnt:\n",
    "        return item2\n",
    "    elif item1_cnt == item2_cnt:\n",
    "        return item1\n",
    "\n",
    "print(more_frequent_item([2, 3, 3, 2, 3, 2, 3, 2, 3], 2, 3))"
   ]
  }
 ],
 "metadata": {
  "kernelspec": {
   "display_name": "Python 3.10.8 64-bit",
   "language": "python",
   "name": "python3"
  },
  "language_info": {
   "codemirror_mode": {
    "name": "ipython",
    "version": 3
   },
   "file_extension": ".py",
   "mimetype": "text/x-python",
   "name": "python",
   "nbconvert_exporter": "python",
   "pygments_lexer": "ipython3",
   "version": "3.10.8"
  },
  "orig_nbformat": 4,
  "vscode": {
   "interpreter": {
    "hash": "369f2c481f4da34e4445cda3fffd2e751bd1c4d706f27375911949ba6bb62e1c"
   }
  }
 },
 "nbformat": 4,
 "nbformat_minor": 2
}
