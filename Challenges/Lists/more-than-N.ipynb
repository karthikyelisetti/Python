{
 "cells": [
  {
   "cell_type": "markdown",
   "metadata": {},
   "source": [
    "4. More Than N\n",
    "\n",
    "    Our factory produces a variety of different flavored snacks and we want to check the number of instances of a certain type. We have a conveyor belt full of different types of snacks represented by different numbers. Our function will accept a list of numbers (representing the type of snack), a number for the second parameter (the type of snack we are looking for), and another number as the third parameter (the maximum number of that type of snack on the conveyor belt). The function will return <b style=\"color: green;\">True</b> if the snack we are searching for appears more times than we provided as our third parameter. These are the steps we need:\n",
    "\n",
    "    1. Define the function to accept three parameters, a list of numbers, a number to look for, and a number for the number of instances\n",
    "    2. Count the number of occurrences of <b style=\"color: green;\">item</b> (the second parameter) in <b style=\"color: green;\">lst</b> (the first parameter)\n",
    "    3. If the number of occurrences is greater than n (the third parameter), return <b style=\"color: green;\">True</b>. Otherwise, return <b style=\"color: green;\">False</b>"
   ]
  },
  {
   "cell_type": "code",
   "execution_count": 2,
   "metadata": {},
   "outputs": [
    {
     "name": "stdout",
     "output_type": "stream",
     "text": [
      "True\n"
     ]
    }
   ],
   "source": [
    "def more_than_n(num_list, num, num_instance):\n",
    "    counter = num_list.count(num)\n",
    "    if counter > num_instance:\n",
    "        return True\n",
    "    else:\n",
    "        return False\n",
    "\n",
    "print(more_than_n([2, 4, 6, 2, 3, 2, 1, 2], 2, 3))"
   ]
  }
 ],
 "metadata": {
  "kernelspec": {
   "display_name": "Python 3.10.8 64-bit",
   "language": "python",
   "name": "python3"
  },
  "language_info": {
   "codemirror_mode": {
    "name": "ipython",
    "version": 3
   },
   "file_extension": ".py",
   "mimetype": "text/x-python",
   "name": "python",
   "nbconvert_exporter": "python",
   "pygments_lexer": "ipython3",
   "version": "3.10.8"
  },
  "orig_nbformat": 4,
  "vscode": {
   "interpreter": {
    "hash": "369f2c481f4da34e4445cda3fffd2e751bd1c4d706f27375911949ba6bb62e1c"
   }
  }
 },
 "nbformat": 4,
 "nbformat_minor": 2
}
