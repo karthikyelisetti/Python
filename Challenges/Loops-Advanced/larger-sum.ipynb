{
 "cells": [
  {
   "cell_type": "markdown",
   "metadata": {},
   "source": [
    "1. Larger Sum\n",
    "\n",
    "    We are going to start our advanced challenge problems by calculating which list of two inputs has the larger sum. We will iterate through each of the list and calculate the sums, afterwards we will compare the two and return which one has a greater sum. Here are the steps we need:\n",
    "\n",
    "    1. Define the function to accept two input parameters: <b style=\"color: green;\">lst1</b> and <b style=\"color: green;\">lst2</b>\n",
    "    2. Create two variables to record the two sums\n",
    "    3. Loop through the first list and add up all of the numbers\n",
    "    4. Loop through the second list and add up all of the numbers\n",
    "    5. Compare the first and second sum and return the list with the greater sum"
   ]
  },
  {
   "cell_type": "code",
   "execution_count": 3,
   "metadata": {},
   "outputs": [
    {
     "name": "stdout",
     "output_type": "stream",
     "text": [
      "[1, 9, 5]\n"
     ]
    }
   ],
   "source": [
    "def larger_sum(lst1, lst2):\n",
    "    lst1_sum, lst2_sum = (0, 0)\n",
    "    for num1 in lst1:\n",
    "        lst1_sum += num1\n",
    "\n",
    "    for num2 in lst2:\n",
    "        lst2_sum += num2\n",
    "    \n",
    "    if lst1_sum >= lst2_sum:\n",
    "        return lst1\n",
    "    else:\n",
    "        return lst2\n",
    "\n",
    "print(larger_sum([1, 9, 5], [2, 3, 7])) "
   ]
  }
 ],
 "metadata": {
  "kernelspec": {
   "display_name": "Python 3.10.8 64-bit",
   "language": "python",
   "name": "python3"
  },
  "language_info": {
   "codemirror_mode": {
    "name": "ipython",
    "version": 3
   },
   "file_extension": ".py",
   "mimetype": "text/x-python",
   "name": "python",
   "nbconvert_exporter": "python",
   "pygments_lexer": "ipython3",
   "version": "3.10.8"
  },
  "orig_nbformat": 4,
  "vscode": {
   "interpreter": {
    "hash": "369f2c481f4da34e4445cda3fffd2e751bd1c4d706f27375911949ba6bb62e1c"
   }
  }
 },
 "nbformat": 4,
 "nbformat_minor": 2
}
