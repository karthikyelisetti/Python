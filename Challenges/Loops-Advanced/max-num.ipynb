{
 "cells": [
  {
   "cell_type": "markdown",
   "metadata": {},
   "source": [
    "3. Max Num\n",
    "    \n",
    "    Here is a more traditional coding problem for you. This function will be used to find the maximum number in a list of numbers. This can be accomplished using the max() function in python, but as a challenge, we are going to manually implement this function. Here is what we need to do:\n",
    "\n",
    "    1. Define the function to accept a list of numbers called nums\n",
    "    2. Set our default maximum value to be the first element in the list\n",
    "    3. Loop through every number in the list of numbers\n",
    "    4. Within the loop, if we find a number greater than our starting maximum, then replace the maximum with what we found.\n",
    "    5. Return the maximum number"
   ]
  },
  {
   "cell_type": "code",
   "execution_count": 1,
   "metadata": {},
   "outputs": [
    {
     "name": "stdout",
     "output_type": "stream",
     "text": [
      "75\n"
     ]
    }
   ],
   "source": [
    "def max_num(nums):\n",
    "  maximum = nums[0]\n",
    "  for num in nums:\n",
    "    if num > maximum:\n",
    "      maximum = num\n",
    "  return maximum\n",
    "\n",
    "\n",
    "print(max_num([50, -10, 0, 75, 20]))"
   ]
  }
 ],
 "metadata": {
  "kernelspec": {
   "display_name": "Python 3.10.8 64-bit",
   "language": "python",
   "name": "python3"
  },
  "language_info": {
   "codemirror_mode": {
    "name": "ipython",
    "version": 3
   },
   "file_extension": ".py",
   "mimetype": "text/x-python",
   "name": "python",
   "nbconvert_exporter": "python",
   "pygments_lexer": "ipython3",
   "version": "3.10.8"
  },
  "orig_nbformat": 4,
  "vscode": {
   "interpreter": {
    "hash": "369f2c481f4da34e4445cda3fffd2e751bd1c4d706f27375911949ba6bb62e1c"
   }
  }
 },
 "nbformat": 4,
 "nbformat_minor": 2
}
