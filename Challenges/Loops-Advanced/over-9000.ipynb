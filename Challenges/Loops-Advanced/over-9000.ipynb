{
 "cells": [
  {
   "cell_type": "markdown",
   "metadata": {},
   "source": [
    "2. Over 9000\n",
    "\n",
    "    We are constructing a device that is able to measure the power level of our coding abilities and according to the device, it will be impossible for our power levels to be over 9000. Because of this, as we iterate through a list of power values we will count up each of the numbers until our sum reaches a value greater than 9000. Once this happens, we should stop adding the numbers and return the value where we stopped. In order to do this, we will need the following steps:\n",
    "\n",
    "    1. Define the function to accept a list of numbers\n",
    "    2. Create a variable to keep track of our sum\n",
    "    3. Iterate through every element in our list of numbers\n",
    "    4. Within the loop, add the current number we are looking at to our sum\n",
    "    5. Still within the loop, check if the sum is greater than 9000. If it is, end the loop\n",
    "    6. Return the value of the sum when we ended our loop"
   ]
  },
  {
   "cell_type": "code",
   "execution_count": 1,
   "metadata": {},
   "outputs": [
    {
     "name": "stdout",
     "output_type": "stream",
     "text": [
      "9020\n"
     ]
    }
   ],
   "source": [
    "def over_nine_thousand(lst):\n",
    "  sum = 0\n",
    "  for num in lst:\n",
    "    sum += num\n",
    "    if sum > 9000:\n",
    "      break\n",
    "  return sum\n",
    "\n",
    "print(over_nine_thousand([8000, 900, 120, 5000]))"
   ]
  }
 ],
 "metadata": {
  "kernelspec": {
   "display_name": "Python 3.10.8 64-bit",
   "language": "python",
   "name": "python3"
  },
  "language_info": {
   "codemirror_mode": {
    "name": "ipython",
    "version": 3
   },
   "file_extension": ".py",
   "mimetype": "text/x-python",
   "name": "python",
   "nbconvert_exporter": "python",
   "pygments_lexer": "ipython3",
   "version": "3.10.8"
  },
  "orig_nbformat": 4,
  "vscode": {
   "interpreter": {
    "hash": "369f2c481f4da34e4445cda3fffd2e751bd1c4d706f27375911949ba6bb62e1c"
   }
  }
 },
 "nbformat": 4,
 "nbformat_minor": 2
}
