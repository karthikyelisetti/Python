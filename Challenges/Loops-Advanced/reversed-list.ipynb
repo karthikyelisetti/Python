{
 "cells": [
  {
   "cell_type": "markdown",
   "metadata": {},
   "source": [
    "5. Reversed List\n",
    "    \n",
    "    For the final challenge, we are going to test two lists to see if the second list is the reverse of the first list. There are a few different ways to approach this, but we are going to try a method that iterates through each of the values in one direction for the first list and compares them against the values starting from the other direction in the second list. Here is what you need to do:\n",
    "\n",
    "    1. Define a function that has two input parameters for our lists\n",
    "    2. Loop through every index in one of the lists from beginning to end\n",
    "    3. Within the loop, compare the element in the first list at the current index against the element at the second list’s last index minus the current index. If there was a mismatch, then the lists aren’t reversed and we can return <b style=\"color: green;\">False</b>\n",
    "    4. If the loop ended successfully, then we know the lists are reversed and we can return <b style=\"color: green;\">True</b>."
   ]
  },
  {
   "cell_type": "code",
   "execution_count": 1,
   "metadata": {},
   "outputs": [
    {
     "name": "stdout",
     "output_type": "stream",
     "text": [
      "True\n",
      "False\n"
     ]
    }
   ],
   "source": [
    "def reversed_list(lst1, lst2):\n",
    "  for index in range(len(lst1)):\n",
    "    if lst1[index] != lst2[len(lst2) - 1 - index]:\n",
    "      return False\n",
    "  return True\n",
    "\n",
    "print(reversed_list([1, 2, 3], [3, 2, 1]))\n",
    "print(reversed_list([1, 5, 3], [3, 2, 1]))"
   ]
  }
 ],
 "metadata": {
  "kernelspec": {
   "display_name": "Python 3.10.8 64-bit",
   "language": "python",
   "name": "python3"
  },
  "language_info": {
   "codemirror_mode": {
    "name": "ipython",
    "version": 3
   },
   "file_extension": ".py",
   "mimetype": "text/x-python",
   "name": "python",
   "nbconvert_exporter": "python",
   "pygments_lexer": "ipython3",
   "version": "3.10.8"
  },
  "orig_nbformat": 4,
  "vscode": {
   "interpreter": {
    "hash": "369f2c481f4da34e4445cda3fffd2e751bd1c4d706f27375911949ba6bb62e1c"
   }
  }
 },
 "nbformat": 4,
 "nbformat_minor": 2
}
