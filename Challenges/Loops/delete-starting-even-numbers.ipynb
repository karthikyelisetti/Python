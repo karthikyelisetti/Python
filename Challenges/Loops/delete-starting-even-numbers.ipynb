{
 "cells": [
  {
   "cell_type": "markdown",
   "metadata": {},
   "source": [
    "3. Delete Starting Even Numbers\n",
    "\n",
    "    Let’s try a tricky challenge involving removing elements from a list. This function will repeatedly remove the first element of a list until it finds an odd number or runs out of elements. It will accept a list of numbers as an input parameter and return the modified list where any even numbers at the beginning of the list are removed. To do this, we will need the following steps:\n",
    "\n",
    "    1. Define our function to accept a single input parameter <b style=\"color: green;\">lst</b> which is a list of numbers\n",
    "    2. Loop through every number in the list if there are still numbers in the list and if we haven’t hit an odd number yet\n",
    "    3. Within the loop, if the first number in the list is even, then remove the first number of the list\n",
    "    4. Once we hit an odd number or we run out of numbers, return the modified list"
   ]
  },
  {
   "cell_type": "code",
   "execution_count": 4,
   "metadata": {},
   "outputs": [
    {
     "name": "stdout",
     "output_type": "stream",
     "text": [
      "[11, 12, 15]\n",
      "[]\n"
     ]
    }
   ],
   "source": [
    "def delete_starting_evens(lst):\n",
    "    cnt = 0\n",
    "    while len(lst) > 0 and lst[0] % 2 == 0:\n",
    "        lst = lst[1:]\n",
    "    return lst\n",
    "    \n",
    "print(delete_starting_evens([4, 8, 10, 11, 12, 15]))\n",
    "print(delete_starting_evens([4, 8, 10]))"
   ]
  }
 ],
 "metadata": {
  "kernelspec": {
   "display_name": "Python 3.10.8 64-bit",
   "language": "python",
   "name": "python3"
  },
  "language_info": {
   "codemirror_mode": {
    "name": "ipython",
    "version": 3
   },
   "file_extension": ".py",
   "mimetype": "text/x-python",
   "name": "python",
   "nbconvert_exporter": "python",
   "pygments_lexer": "ipython3",
   "version": "3.10.8"
  },
  "orig_nbformat": 4,
  "vscode": {
   "interpreter": {
    "hash": "369f2c481f4da34e4445cda3fffd2e751bd1c4d706f27375911949ba6bb62e1c"
   }
  }
 },
 "nbformat": 4,
 "nbformat_minor": 2
}
