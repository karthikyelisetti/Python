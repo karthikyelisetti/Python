{
 "cells": [
  {
   "cell_type": "markdown",
   "metadata": {},
   "source": [
    "1. Divisible By Ten\n",
    "\n",
    "    Let's start our code challenges with a function that counts how many numbers are divisible by ten from a list of numbers. This function will accept a list of numbers as an input parameter and use a loop to check each of the numbers in the list. Every time a number is divisible by 10, a counter will be incremented and the final count will be returned. These are the steps we need to complete this:\n",
    "\n",
    "    1. Define the function to accept one input parameter called <b style=\"color: green;\">nums</b>\n",
    "    2. Initialize a counter to 0\n",
    "    3. Loop through every number in <b style=\"color: green;\">nums</b>\n",
    "    4. Within the loop, if any of the numbers are divisible by 10, increment our counter\n",
    "    5. Return the final counter value"
   ]
  },
  {
   "cell_type": "code",
   "execution_count": 1,
   "metadata": {},
   "outputs": [
    {
     "name": "stdout",
     "output_type": "stream",
     "text": [
      "3\n"
     ]
    }
   ],
   "source": [
    "def divisible_by_ten(nums):\n",
    "    counter = 0\n",
    "    for num in nums:\n",
    "        if num % 10 == 0:\n",
    "            counter += 1\n",
    "    return counter\n",
    "\n",
    "print(divisible_by_ten([20, 25, 30, 35, 40]))"
   ]
  }
 ],
 "metadata": {
  "kernelspec": {
   "display_name": "Python 3.10.8 64-bit",
   "language": "python",
   "name": "python3"
  },
  "language_info": {
   "codemirror_mode": {
    "name": "ipython",
    "version": 3
   },
   "file_extension": ".py",
   "mimetype": "text/x-python",
   "name": "python",
   "nbconvert_exporter": "python",
   "pygments_lexer": "ipython3",
   "version": "3.10.8"
  },
  "orig_nbformat": 4,
  "vscode": {
   "interpreter": {
    "hash": "369f2c481f4da34e4445cda3fffd2e751bd1c4d706f27375911949ba6bb62e1c"
   }
  }
 },
 "nbformat": 4,
 "nbformat_minor": 2
}
