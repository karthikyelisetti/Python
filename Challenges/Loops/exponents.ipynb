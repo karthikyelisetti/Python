{
 "cells": [
  {
   "cell_type": "markdown",
   "metadata": {},
   "source": [
    "5. Exponents\n",
    "\n",
    "    In this challenge, we will be using nested loops in order to raise a list of numbers to the power of a list of other numbers. What this means is that for every number in the first list, we will raise that number to the power of every number in the second list. If you provide the first list with 2 elements and the second list with 3 numbers, then there will be 6 final answers. Let’s look at the steps we need:\n",
    "\n",
    "    1. Define the function to accept two lists of numbers, <b style=\"color: green;\">bases</b> and <b style=\"color: green;\">powers</b>\n",
    "    2. Create a new list that will contain our answers\n",
    "    3. Create a loop that iterates through every base in <b style=\"color: green;\">bases</b>\n",
    "    4. Within that loop, create another loop that iterates through every power in <b style=\"color: green;\">powers</b>\n",
    "    5. Within that nested loop, append the result of the current base raised to the current power.\n",
    "    6. After all iterations of both loops are complete, return the list of answers"
   ]
  },
  {
   "cell_type": "code",
   "execution_count": 1,
   "metadata": {},
   "outputs": [
    {
     "name": "stdout",
     "output_type": "stream",
     "text": [
      "[2, 4, 8, 3, 9, 27, 4, 16, 64]\n"
     ]
    }
   ],
   "source": [
    "def exponents(bases, powers):\n",
    "    new_lst = []\n",
    "    for base in bases:\n",
    "        for power in powers:\n",
    "            new_lst.append(base ** power)\n",
    "    \n",
    "    return new_lst\n",
    "\n",
    "print(exponents([2, 3, 4], [1, 2, 3]))"
   ]
  }
 ],
 "metadata": {
  "kernelspec": {
   "display_name": "Python 3.10.8 64-bit",
   "language": "python",
   "name": "python3"
  },
  "language_info": {
   "codemirror_mode": {
    "name": "ipython",
    "version": 3
   },
   "file_extension": ".py",
   "mimetype": "text/x-python",
   "name": "python",
   "nbconvert_exporter": "python",
   "pygments_lexer": "ipython3",
   "version": "3.10.8"
  },
  "orig_nbformat": 4,
  "vscode": {
   "interpreter": {
    "hash": "369f2c481f4da34e4445cda3fffd2e751bd1c4d706f27375911949ba6bb62e1c"
   }
  }
 },
 "nbformat": 4,
 "nbformat_minor": 2
}
