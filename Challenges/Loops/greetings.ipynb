{
 "cells": [
  {
   "cell_type": "markdown",
   "metadata": {},
   "source": [
    "2. Greetings\n",
    "\n",
    "    You are invited to a social gathering, but you are tired of greeting everyone there. Luckily we can create a function to accomplish this task for us. In this challenge, we will take a list of names and prepend the string <b style=\"color: green;\">'Hello, '</b> before each name. This will require a few steps:\n",
    "\n",
    "    1. Define the function to accept a list of strings as a single parameter called <b style=\"color: green;\">names</b>\n",
    "    2. Create a new list of strings\n",
    "    3. Loop through each name in <b style=\"color: green;\">names</b>\n",
    "    4. Within the loop, concatenate <b style=\"color: green;\">'Hello, '</b> and the current name together and append this new string to the new list of strings\n",
    "    5. Afterwards, return the new list of strings"
   ]
  },
  {
   "cell_type": "code",
   "execution_count": 1,
   "metadata": {},
   "outputs": [
    {
     "name": "stdout",
     "output_type": "stream",
     "text": [
      "['Hello, Owen', 'Hello, Max', 'Hello, Sophie']\n"
     ]
    }
   ],
   "source": [
    "def add_greetings(names):\n",
    "    new_list = []\n",
    "    for name in names:\n",
    "        new_list.append(\"Hello, \"+name)\n",
    "    return new_list\n",
    "\n",
    "print(add_greetings([\"Owen\", \"Max\", \"Sophie\"]))\n"
   ]
  }
 ],
 "metadata": {
  "kernelspec": {
   "display_name": "Python 3.10.8 64-bit",
   "language": "python",
   "name": "python3"
  },
  "language_info": {
   "codemirror_mode": {
    "name": "ipython",
    "version": 3
   },
   "file_extension": ".py",
   "mimetype": "text/x-python",
   "name": "python",
   "nbconvert_exporter": "python",
   "pygments_lexer": "ipython3",
   "version": "3.10.8"
  },
  "orig_nbformat": 4,
  "vscode": {
   "interpreter": {
    "hash": "369f2c481f4da34e4445cda3fffd2e751bd1c4d706f27375911949ba6bb62e1c"
   }
  }
 },
 "nbformat": 4,
 "nbformat_minor": 2
}
