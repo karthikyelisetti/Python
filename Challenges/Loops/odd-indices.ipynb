{
 "cells": [
  {
   "cell_type": "markdown",
   "metadata": {},
   "source": [
    "4. Odd Indices\n",
    "\n",
    "    This next function will give us the values from a list at every odd index. We will need to accept a list of numbers as an input parameter and loop through the odd indices instead of the elements. Here are the steps needed:\n",
    "\n",
    "    1. Define the function header to accept one input which will be our list of numbers\n",
    "    2. Create a new list which will hold our values to return\n",
    "    3. Iterate through every odd index until the end of the list\n",
    "    4. Within the loop, get the element at the current odd index and append it to our new list\n",
    "    5. Return the list of elements which we got from the odd indices."
   ]
  },
  {
   "cell_type": "code",
   "execution_count": 5,
   "metadata": {},
   "outputs": [
    {
     "name": "stdout",
     "output_type": "stream",
     "text": [
      "[3, 10, -2]\n"
     ]
    }
   ],
   "source": [
    "def odd_indices(lst):\n",
    "    new_lst = []\n",
    "    for num in range(1, len(lst), 2):\n",
    "        new_lst.append(lst[num])\n",
    "    return new_lst\n",
    "\n",
    "print(odd_indices([4, 3, 7, 10, 11, -2]))"
   ]
  }
 ],
 "metadata": {
  "kernelspec": {
   "display_name": "Python 3.10.8 64-bit",
   "language": "python",
   "name": "python3"
  },
  "language_info": {
   "codemirror_mode": {
    "name": "ipython",
    "version": 3
   },
   "file_extension": ".py",
   "mimetype": "text/x-python",
   "name": "python",
   "nbconvert_exporter": "python",
   "pygments_lexer": "ipython3",
   "version": "3.10.8"
  },
  "orig_nbformat": 4,
  "vscode": {
   "interpreter": {
    "hash": "369f2c481f4da34e4445cda3fffd2e751bd1c4d706f27375911949ba6bb62e1c"
   }
  }
 },
 "nbformat": 4,
 "nbformat_minor": 2
}
